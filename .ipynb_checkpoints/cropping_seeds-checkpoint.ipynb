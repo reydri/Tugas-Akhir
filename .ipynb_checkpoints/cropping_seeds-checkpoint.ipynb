{
 "cells": [
  {
   "cell_type": "code",
   "execution_count": null,
   "metadata": {
    "scrolled": true
   },
   "outputs": [],
   "source": [
    "from skimage import io\n",
    "import numpy as np\n",
    "import cv2\n",
    "from matplotlib import pyplot as plt\n",
    "gbr = 'biji_0.0.png'\n",
    "\n",
    "def show(image):\n",
    "    # Figure size in inches\n",
    "    plt.figure(figsize=(10, 10))\n",
    "\n",
    "    # Show image, with nearest neighbour interpolation\n",
    "    plt.imshow(image, interpolation='nearest')\n",
    "img = cv2.imread(gbr)\n",
    "show(img)\n",
    "img = io.imread(gbr)[:, :, :-1]\n"
   ]
  },
  {
   "cell_type": "code",
   "execution_count": null,
   "metadata": {},
   "outputs": [],
   "source": [
    "average = img.mean(axis=0).mean(axis=0)"
   ]
  },
  {
   "cell_type": "code",
   "execution_count": null,
   "metadata": {},
   "outputs": [],
   "source": [
    "\n",
    "pixels = np.float32(img.reshape(-1, 3))\n",
    "n_colors = 5\n",
    "criteria = (cv2.TERM_CRITERIA_EPS + cv2.TERM_CRITERIA_MAX_ITER, 200, .1)\n",
    "flags = cv2.KMEANS_RANDOM_CENTERS\n",
    "\n",
    "_, labels, palette = cv2.kmeans(pixels, n_colors, None, criteria, 10, flags)\n",
    "_, counts = np.unique(labels, return_counts=True)\n",
    "dominant = palette[np.argmax(counts)]"
   ]
  },
  {
   "cell_type": "code",
   "execution_count": null,
   "metadata": {},
   "outputs": [],
   "source": [
    "dominant"
   ]
  },
  {
   "cell_type": "code",
   "execution_count": null,
   "metadata": {},
   "outputs": [],
   "source": [
    "average"
   ]
  },
  {
   "cell_type": "code",
   "execution_count": null,
   "metadata": {},
   "outputs": [],
   "source": [
    "import cv2\n",
    "import numpy\n",
    "myimg = cv2.imread('biji_1.4.png')\n",
    "show(myimg)\n",
    "avg_color_per_row = numpy.average(myimg, axis=0)\n",
    "avg_color = numpy.average(avg_color_per_row, axis=0)\n",
    "print(avg_color)"
   ]
  },
  {
   "cell_type": "markdown",
   "metadata": {},
   "source": [
    "    "
   ]
  },
  {
   "cell_type": "code",
   "execution_count": null,
   "metadata": {},
   "outputs": [],
   "source": [
    "import numpy as np\n",
    "from PIL import Image\n",
    "import pandas as pd\n",
    "\n",
    "colourImg = Image.open(\"biji_0.1.png\")\n",
    "colourPixels = colourImg.convert(\"RGB\")\n",
    "colourArray = np.array(colourPixels.getdata()).reshape(colourImg.size + (3,))\n",
    "indicesArray = np.moveaxis(np.indices(colourImg.size), 0, 2)\n",
    "allArray = np.dstack((indicesArray, colourArray)).reshape((-1, 5))\n",
    "\n",
    "\n",
    "df = pd.DataFrame(allArray, columns=[\"y\", \"x\", \"red\",\"green\",\"blue\"])"
   ]
  },
  {
   "cell_type": "code",
   "execution_count": null,
   "metadata": {},
   "outputs": [],
   "source": [
    "df.describe()"
   ]
  },
  {
   "cell_type": "code",
   "execution_count": null,
   "metadata": {},
   "outputs": [],
   "source": [
    "colourImg2 = Image.open(\"biji_1.4.png\")\n",
    "colourPixels2 = colourImg2.convert(\"RGB\")\n",
    "colourArray2 = np.array(colourPixels2.getdata()).reshape(colourImg2.size + (3,))\n",
    "indicesArray2 = np.moveaxis(np.indices(colourImg2.size), 0, 2)\n",
    "allArray2 = np.dstack((indicesArray2, colourArray2)).reshape((-1, 5))\n",
    "\n",
    "\n",
    "df2 = pd.DataFrame(allArray2, columns=[\"y\", \"x\", \"red\",\"green\",\"blue\"])"
   ]
  },
  {
   "cell_type": "code",
   "execution_count": null,
   "metadata": {},
   "outputs": [],
   "source": [
    "df2"
   ]
  },
  {
   "cell_type": "code",
   "execution_count": null,
   "metadata": {},
   "outputs": [],
   "source": [
    "import glob\n",
    "import os\n",
    "import numpy\n",
    "import cv2\n",
    "import pandas as pd\n",
    "arr = []\n",
    "for i in glob.iglob(\"crop/*\"):\n",
    "    \n",
    "    myimg = cv2.imread(i)\n",
    "    avg_color_per_row = numpy.average(myimg, axis=0)\n",
    "    avg_color = numpy.average(avg_color_per_row, axis=0)\n",
    "    arr.append(avg_color)\n",
    "\n",
    "    \n",
    "    "
   ]
  },
  {
   "cell_type": "code",
   "execution_count": null,
   "metadata": {},
   "outputs": [],
   "source": [
    "df = pd.DataFrame(arr, columns=['r', 'g', 'b'])"
   ]
  },
  {
   "cell_type": "raw",
   "metadata": {},
   "source": [
    "sf"
   ]
  },
  {
   "cell_type": "code",
   "execution_count": null,
   "metadata": {},
   "outputs": [],
   "source": [
    "df"
   ]
  },
  {
   "cell_type": "code",
   "execution_count": null,
   "metadata": {},
   "outputs": [],
   "source": [
    "#df.to_csv('dataset.csv')"
   ]
  },
  {
   "cell_type": "code",
   "execution_count": 8,
   "metadata": {},
   "outputs": [
    {
     "data": {
      "text/plain": [
       "<matplotlib.axes._subplots.AxesSubplot at 0x2328a53af98>"
      ]
     },
     "execution_count": 8,
     "metadata": {},
     "output_type": "execute_result"
    },
    {
     "data": {
      "image/png": "[encoded data removed]",
      "text/plain": [
       "<Figure size 432x288 with 2 Axes>"
      ]
     },
     "metadata": {
      "needs_background": "light"
     },
     "output_type": "display_data"
    }
   ],
   "source": [
    "import pandas as pd\n",
    "df = pd.read_csv('dataset.csv')\n",
    "df.plot(kind = \"scatter\", x = \"r\", y= \"g\",c=\"b\", colormap=\"rainbow\")\n"
   ]
  },
  {
   "cell_type": "code",
   "execution_count": null,
   "metadata": {},
   "outputs": [],
   "source": []
  }
 ],
 "metadata": {
  "kernelspec": {
   "display_name": "Python 3",
   "language": "python",
   "name": "python3"
  },
  "language_info": {
   "codemirror_mode": {
    "name": "ipython",
    "version": 3
   },
   "file_extension": ".py",
   "mimetype": "text/x-python",
   "name": "python",
   "nbconvert_exporter": "python",
   "pygments_lexer": "ipython3",
   "version": "3.6.5"
  }
 },
 "nbformat": 4,
 "nbformat_minor": 2
}
