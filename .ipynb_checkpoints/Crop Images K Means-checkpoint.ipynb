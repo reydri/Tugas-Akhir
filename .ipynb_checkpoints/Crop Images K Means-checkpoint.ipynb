{
 "cells": [
  {
   "cell_type": "code",
   "execution_count": 1,
   "metadata": {},
   "outputs": [],
   "source": [
    "import cv2\n",
    "import matplotlib.pyplot as plt\n",
    "import glob\n",
    "import numpy as np\n",
    "import pandas as pd"
   ]
  },
  {
   "cell_type": "code",
   "execution_count": null,
   "metadata": {},
   "outputs": [],
   "source": [
    "def get_image_width_height(image):\n",
    "    image_width = image.shape[1]  # current image's width\n",
    "    image_height = image.shape[0]  # current image's height\n",
    "    return image_width, image_height\n",
    "\n",
    "\n",
    "def show_image(image, window_name):\n",
    "    # Show image\n",
    "    cv2.namedWindow(window_name, cv2.WINDOW_NORMAL)\n",
    "    cv2.imshow(window_name, image)\n",
    "    image_width, image_height = get_image_width_height(image)\n",
    "    cv2.resizeWindow(window_name, image_width, image_height)\n",
    "\n",
    "    # Wait before closing\n",
    "    cv2.waitKey(0)\n",
    "    cv2.destroyAllWindows()\n",
    "    \n",
    "def cut_of_top(image, pixel):\n",
    "    image_width, image_height = get_image_width_height(image)\n",
    "\n",
    "    # startY, endY, startX, endX coordinates\n",
    "    new_y = 0+pixel\n",
    "    image = image[new_y:image_height, 0:image_width]\n",
    "    return image\n",
    "\n",
    "def cut_of_bottom(image, pixel):\n",
    "    image_width, image_height = get_image_width_height(image)\n",
    "\n",
    "    # startY, endY, startX, endX coordinates\n",
    "    new_height = image_height-pixel\n",
    "    image = image[0:new_height, 0:image_width]\n",
    "    return image\n",
    "\n",
    "def cut_of_width(image, pixel):\n",
    "    image_width, image_height = get_image_width_height(image)\n",
    "\n",
    "    # startY, endY, startX, endX coordinates\n",
    "    new_w = 0+pixel\n",
    "    image = image[0:image_height, new_w:image_width]\n",
    "    return image"
   ]
  },
  {
   "cell_type": "code",
   "execution_count": 17,
   "metadata": {},
   "outputs": [],
   "source": [
    "number = 0\n",
    "for i in glob.iglob(\"input/*\"):\n",
    "    img = cv2.imread(i)\n",
    "    img = cut_of_top(img, 1050)\n",
    "    img = cut_of_bottom(img, 600)\n",
    "    img = cut_of_width(image, 1350)\n",
    "    hsv = cv2.cvtColor(img, cv2.COLOR_BGR2HSV)\n",
    "    red_min = np.array([30, 1, 1], np.uint8)\n",
    "    red_max = np.array([255, 255, 255], np.uint8)\n",
    "    mask_inverse = cv2.inRange(hsv, red_min, red_max)\n",
    "#     thresh, binary = cv2.threshold(mask, 180, 255, cv2.THRESH_BINARY)\n",
    "#     gray = cv2.cvtColor(img, cv2.COLOR_BGR2GRAY)\n",
    "    mask = cv2.bitwise_not(mask_inverse)\n",
    "    binary = cv2.cvtColor(mask, cv2.COLOR_GRAY2RGB)\n",
    "#     binary = cv2.adaptiveThreshold(mask, 255, cv2.ADAPTIVE_THRESH_MEAN_C, \\\n",
    "#                                    cv2.THRESH_BINARY, 15, -4)\n",
    "    cv2.imwrite(\"tes2/binary_{}.jpg\".format(number), binary)\n",
    "    number = number+1\n",
    "    \n",
    "#     \n",
    "\n"
   ]
  },
  {
   "cell_type": "code",
   "execution_count": 16,
   "metadata": {},
   "outputs": [],
   "source": [
    "# number = 0\n",
    "# for i in glob.iglob(\"tes2/*\"):\n",
    "#     img = cv2.imread(i)\n",
    "#     # Create the images that will use to extract the horizontal and vertical lines\n",
    "#     horizontal = np.copy(img)\n",
    "#     vertical = np.copy(img)\n",
    "    \n",
    "#      # Specify size on horizontal axis\n",
    "#     cols = horizontal.shape[1]\n",
    "#     horizontal_size = cols//30\n",
    "#     # Create structure element for extracting horizontal lines through morphology operations\n",
    "#     horizontalStructure = cv2.getStructuringElement(cv2.MORPH_RECT, (horizontal_size, 1))\n",
    "#     # Apply morphology operations\n",
    "#     horizontal = cv2.erode(horizontal, horizontalStructure)\n",
    "#     horizontal = cv2.dilate(horizontal, horizontalStructure)\n",
    "    \n",
    "#     cv2.imwrite(\"tes3/horizontal/horizontal_{}.jpg\".format(number), horizontal)\n",
    "    \n",
    "#     # Specify size on vertical axis\n",
    "#     rows = vertical.shape[0]\n",
    "#     verticalsize = rows//30\n",
    "#     # Create structure element for extracting vertical lines through morphology operations\n",
    "#     verticalStructure = cv2.getStructuringElement(cv2.MORPH_RECT, (1, verticalsize))\n",
    "#     # Apply morphology operations\n",
    "#     vertical = cv2.erode(vertical, verticalStructure)\n",
    "#     vertical = cv2.dilate(vertical, verticalStructure)\n",
    "    \n",
    "#     cv2.imwrite(\"tes3/vertical/vertical_{}.jpg\".format(number), vertical)\n",
    "#     number = number+1"
   ]
  },
  {
   "cell_type": "code",
   "execution_count": 4,
   "metadata": {},
   "outputs": [],
   "source": [
    "# number = 0\n",
    "# for i in glob.iglob(\"tes3/vertical/*\"):\n",
    "#     img = cv2.imread(i)\n",
    "# #     vertical = cv2.bitwise_not(img)\n",
    "#     X = img.reshape((-1, 1))\n",
    "#     k_means = cluster.KMeans(n_clusters=5)\n",
    "#     k_means.fit(X)\n",
    "    \n",
    "#     clusters_means = k_means.cluster_centers_.squeeze()\n",
    "#     X_clustered = k_means.labels_\n",
    "#     print('# of Observations:', X.shape)\n",
    "#     print('Clusters Means:', clusters_means)\n",
    "    \n",
    "#     X_clustered.shape = img.shape\n",
    "#     cv2.imwrite(\"tes3/kmeans/kmeans_{}.jpg\".format(number), img.shape)\n",
    "#     number = number+1"
   ]
  },
  {
   "cell_type": "code",
   "execution_count": 5,
   "metadata": {},
   "outputs": [],
   "source": [
    "# arr = []\n",
    "# for i in glob.iglob(\"tes2/*\"):    \n",
    "#     myimg = cv2.imread(i)\n",
    "#     black = 0\n",
    "#     white = 1\n",
    "#     pixel = myimg[black,white]\n",
    "#     arr.append(pixel)"
   ]
  },
  {
   "cell_type": "code",
   "execution_count": 6,
   "metadata": {},
   "outputs": [],
   "source": [
    "# df = pd.DataFrame(arr, columns=['p1', 'p2', 'p3'])\n",
    "# df"
   ]
  }
 ],
 "metadata": {
  "kernelspec": {
   "display_name": "Python 3",
   "language": "python",
   "name": "python3"
  },
  "language_info": {
   "codemirror_mode": {
    "name": "ipython",
    "version": 3
   },
   "file_extension": ".py",
   "mimetype": "text/x-python",
   "name": "python",
   "nbconvert_exporter": "python",
   "pygments_lexer": "ipython3",
   "version": "3.6.8"
  }
 },
 "nbformat": 4,
 "nbformat_minor": 2
}
