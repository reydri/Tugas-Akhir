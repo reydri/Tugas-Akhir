{
 "cells": [
  {
   "cell_type": "code",
   "execution_count": 1,
   "metadata": {},
   "outputs": [],
   "source": [
    "import cv2\n",
    "import glob\n",
    "import numpy as np\n",
    "from PIL import Image\n",
    "import matplotlib.pyplot as plt"
   ]
  },
  {
   "cell_type": "code",
   "execution_count": 2,
   "metadata": {},
   "outputs": [
    {
     "name": "stdout",
     "output_type": "stream",
     "text": [
      "Done!\n"
     ]
    }
   ],
   "source": [
    "def process(filename, key):\n",
    "    # Read image\n",
    "    image = cv2.imread(filename)\n",
    "\n",
    "    # Convert to grayscale\n",
    "    # image = cv2.cvtColor(image, cv2.COLOR_BGR2GRAY)\n",
    "\n",
    "    # Crop the image using array slices - ROI\n",
    "    # First - height, Second - width\n",
    "    for key in range(5):\n",
    "        cropped = image[150:450, 500:800]\n",
    "\n",
    "    # Display ROI images\n",
    "    # cv2.imshow(\"Cropped\", cropped)\n",
    "\n",
    "    # Save images\n",
    "    cv2.imwrite('tes/cropped_{}.jpg'.format(key), cropped)\n",
    "\n",
    "    # Waits to press any key\n",
    "    # cv2.waitKey(0)\n",
    "\n",
    "    # Closes displayed windows\n",
    "    # cv2.destroyAllWindows()\n",
    "    \n",
    "# Grab all images in a given directory\n",
    "for (i, image_file) in enumerate(sorted(glob.glob('input/*.jpg'))):\n",
    "    process(image_file, i)\n",
    "    \n",
    "# Message\n",
    "print('Done!')\n"
   ]
  }
 ],
 "metadata": {
  "kernelspec": {
   "display_name": "Python 3",
   "language": "python",
   "name": "python3"
  },
  "language_info": {
   "codemirror_mode": {
    "name": "ipython",
    "version": 3
   },
   "file_extension": ".py",
   "mimetype": "text/x-python",
   "name": "python",
   "nbconvert_exporter": "python",
   "pygments_lexer": "ipython3",
   "version": "3.6.8"
  }
 },
 "nbformat": 4,
 "nbformat_minor": 2
}
